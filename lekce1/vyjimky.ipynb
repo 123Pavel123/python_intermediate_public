{
 "cells": [
  {
   "cell_type": "markdown",
   "metadata": {},
   "source": [
    "# Python intermediate\n",
    "\n",
    "\n",
    "Vítej ve cvičebním notebooku modulu Python intermediate! Postupně tě interaktivně provede probíranými tématy a poodkryje další zákoutí jazyka Python :) "
   ]
  },
  {
   "cell_type": "code",
   "execution_count": 10,
   "metadata": {},
   "outputs": [],
   "source": [
    "import os\n",
    "import random\n",
    "from pathlib import Path\n",
    "\n",
    "%load_ext autoreload\n",
    "%autoreload 2"
   ]
  },
  {
   "cell_type": "markdown",
   "metadata": {},
   "source": [
    "## Testy (neupravovat)"
   ]
  },
  {
   "cell_type": "code",
   "execution_count": 6,
   "metadata": {},
   "outputs": [],
   "source": [
    "def test_safe_open1(safe_open):\n",
    "    \"\"\"tests wether the function can detect that a file doesn't exist without failing\"\"\"\n",
    "    i = 0\n",
    "    while Path(f\"test{i}.txt\").exists():\n",
    "        i += 1\n",
    "    print(f\"### TEST safe_open1 ###\\n\")\n",
    "\n",
    "    # try to open non existing file\n",
    "    f = safe_open(f\"test{i}.txt\", \"r\")\n",
    "    if f is not None:\n",
    "        f.close()\n",
    "        os.remove(f\"test{i}.txt\")\n",
    "\n",
    "    # try to open existing file\n",
    "    f = open(f\"test{i}.txt\", \"w\", encoding=\"utf-8\")\n",
    "    f.close()\n",
    "    f = safe_open(f\"test{i}.txt\", \"r\")\n",
    "    if f is not None:\n",
    "        f.close()\n",
    "    os.remove(f\"test{i}.txt\")\n",
    "\n",
    "    assert f is not None, \"safe_open failed to open existing file\"\n",
    "\n",
    "    print(\"Looking gooood:)\\n\\n\")\n",
    "\n",
    "\n",
    "def test_safe_open2(safe_open):\n",
    "    \"\"\"tests wether it can handle wrong values for mode\"\"\"\n",
    "\n",
    "    i = 0\n",
    "    while Path(f\"test{i}.txt\").exists():\n",
    "        i += 1\n",
    "\n",
    "    test_path = f\"test{i}.txt\"\n",
    "\n",
    "    print(f\"\\n\\n### TEST safe_open2 ###\\n\")\n",
    "\n",
    "    # try to open existing file with a wrong mode value\n",
    "    f = open(test_path, \"w\", encoding=\"utf-8\")\n",
    "    f.close()\n",
    "    f = safe_open(test_path, \"z\")\n",
    "    if f is not None:\n",
    "        f.close()\n",
    "    os.remove(test_path)\n",
    "\n",
    "    print(\"Looking gooood:)\")\n",
    "\n",
    "\n",
    "def test_check_all_even_numbers(checker_fction, even_numbers):\n",
    "    \"\"\"tests wether the function can detect odd numbers and throw an exception\"\"\"\n",
    "    all_even = True\n",
    "    for num in even_numbers:\n",
    "        if num % 2 != 0:\n",
    "            all_even = False\n",
    "            break\n",
    "    print(f\"\\n\\n### TEST check_all_even_numbers: {'ALL EVEN' if all_even else 'AN ODD IMPOSTER'} ###\\n\")\n",
    "\n",
    "    if all_even:\n",
    "        checker_fction(even_numbers)\n",
    "        print(\"Looking gooood:)\")\n",
    "    else:\n",
    "        try:\n",
    "            checker_fction(even_numbers)\n",
    "        except ValueError:\n",
    "            print(\"Looking gooood:)\")\n",
    "        else:\n",
    "            raise AssertionError(\"check_all_even_numbers failed to detect an odd number\")\n",
    "\n"
   ]
  },
  {
   "cell_type": "markdown",
   "metadata": {},
   "source": [
    "## Kolo štěstí"
   ]
  },
  {
   "cell_type": "code",
   "execution_count": null,
   "metadata": {},
   "outputs": [],
   "source": [
    "# TODO: navrhni funkcionalitu, ktera bude nahodne vybirat dobrovolniky\n",
    "# muze se hodit\n",
    "#  - knihovna random\n",
    "#  - random.choice"
   ]
  },
  {
   "cell_type": "markdown",
   "metadata": {},
   "source": [
    "## Výjimky\n",
    "Výjimky (`Exception`) jsou události, které se mohou vyskytnout při běhu programu a přeruší jeho průběh. Lze na ně pohlížet jako na objekty, které reprezentují danou chybu."
   ]
  },
  {
   "cell_type": "markdown",
   "metadata": {},
   "source": [
    "### Obsluha výjimek `try`, `except`\n",
    "\n",
    "\n",
    "#### Cvičení #1\n",
    "Napiš program, který otevře soubor. Pokud soubor neexistuje, obslouží výjimku **FileNotFoundError** (vypíše zprávu na konzoli) a bez erroru skončí.\n"
   ]
  },
  {
   "cell_type": "code",
   "execution_count": 11,
   "metadata": {},
   "outputs": [],
   "source": [
    "def safe_open(path: str, mode: str = \"r\"):\n",
    "    # try:\n",
    "        # TODO\n",
    "    # except ... :\n",
    "        # TODO ...\n",
    "\n",
    "    pass"
   ]
  },
  {
   "cell_type": "code",
   "execution_count": null,
   "metadata": {},
   "outputs": [],
   "source": [
    "# test\n",
    "test_safe_open1(safe_open)"
   ]
  },
  {
   "cell_type": "markdown",
   "metadata": {},
   "source": [
    "#### Cvičení #2\n",
    "Uprav funkci `safe_open()` tak, aby nespadla ani v případě chybného argumentu mode např. při volání `safe_open(\"test.txt\", \"z\")`\n",
    "\n",
    "Opět vypiš na konzoli odpovídající chybovou hlášku a nech program doběhnout \n"
   ]
  },
  {
   "cell_type": "code",
   "execution_count": 13,
   "metadata": {},
   "outputs": [],
   "source": [
    "def safe_open2(path: str, mode: str = \"r\"):\n",
    "    # sem muzes zkopirovat kod z funkce safe_open\n",
    "\n",
    "    # except ... :   # obsluha druhe vyjimky\n",
    "        # TODO ...\n",
    "    pass"
   ]
  },
  {
   "cell_type": "code",
   "execution_count": null,
   "metadata": {},
   "outputs": [],
   "source": [
    "# tests\n",
    "test_safe_open1(safe_open2)\n",
    "test_safe_open2(safe_open2)"
   ]
  },
  {
   "cell_type": "markdown",
   "metadata": {},
   "source": [
    "#### `finally`\n",
    "\n",
    "Dalším nástrojem při obsluze výjimek je klauzule `finally`. Ta se provede bez ohledu na to, zda výjimka nastala, nebo ne.\n",
    "\n",
    "například:\n",
    "```python\n",
    "try:\n",
    "    soubor = open(\"soubor.txt\")\n",
    "    soubor.write(\"Alan má kočku.\")\n",
    "except IOError:\n",
    "    print(\"Při zpracování souboru došlo k chybě!\")\n",
    "finally:\n",
    "    soubor.close()\n",
    "\n",
    "```\n"
   ]
  },
  {
   "cell_type": "markdown",
   "metadata": {},
   "source": [
    "### Vyhazování výjimek\n",
    "V některých situacích se může hodit program předčasně ukončit a vyhodit srozumitelnou výjimku. Například pokud chceme zavčas upozornit na odhalený problém, který by mohl zapříčinit pád programu v méně vhodnou chvíli. \n",
    "\n",
    "K tomu použijeme klíčové slovo `raise`"
   ]
  },
  {
   "cell_type": "markdown",
   "metadata": {},
   "source": [
    "\n",
    "\n",
    "#### Cvičení #3\n",
    "Naprogramuj funkci, která ověří, že v zadaném seznamu nejsou **žádná lichá čísla**. Pokud nějaké liché číslo najde, vyhodí výjimku typu `ValueError`."
   ]
  },
  {
   "cell_type": "code",
   "execution_count": 17,
   "metadata": {},
   "outputs": [],
   "source": [
    "def check_all_even_numbers(numbers: list):\n",
    "    # TODO: iteruj pres list numbers, pokud najdes lichy cislo vyvolej ValueError\n",
    "    pass"
   ]
  },
  {
   "cell_type": "code",
   "execution_count": null,
   "metadata": {},
   "outputs": [],
   "source": [
    "# test\n",
    "test_check_all_even_numbers(check_all_even_numbers, [2,4, 6, 8, 9, 10])\n",
    "test_check_all_even_numbers(check_all_even_numbers, [2, 4, 6, 8, 10])"
   ]
  },
  {
   "cell_type": "markdown",
   "metadata": {},
   "source": [
    "### Tvorba vlastních výjmek\n",
    "Proto, že jsou výjimky uspořádané v systému tříd, můžeme si vytvořit vlasní výjimku - stačí, když bude naše třída přímým nebo nepřímým potomkem třídy `Exception` (příklad viz slajdy, učebnice).\n",
    "\n",
    "----------------------------------------------------------------------------------------------------------"
   ]
  }
 ],
 "metadata": {
  "kernelspec": {
   "display_name": "Python 3",
   "language": "python",
   "name": "python3"
  },
  "language_info": {
   "codemirror_mode": {
    "name": "ipython",
    "version": 3
   },
   "file_extension": ".py",
   "mimetype": "text/x-python",
   "name": "python",
   "nbconvert_exporter": "python",
   "pygments_lexer": "ipython3",
   "version": "3.10.12"
  }
 },
 "nbformat": 4,
 "nbformat_minor": 2
}
