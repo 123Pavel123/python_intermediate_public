{
 "cells": [
  {
   "cell_type": "markdown",
   "metadata": {},
   "source": [
    "# Python intermediate\n",
    "\n",
    "\n",
    "Vítej ve cvičebním notebooku modulu Python intermediate! Postupně tě interaktivně provede probíranými tématy a poodkryje další zákoutí jazyka Python :) "
   ]
  },
  {
   "cell_type": "code",
   "execution_count": 10,
   "metadata": {},
   "outputs": [],
   "source": [
    "import os\n",
    "import random\n",
    "from pathlib import Path\n",
    "\n",
    "%load_ext autoreload\n",
    "%autoreload 2"
   ]
  },
  {
   "cell_type": "markdown",
   "metadata": {},
   "source": [
    "## Objektově orientované programování (OOP)\n",
    "S principy objektově orientovaného programování jste se už setkali v modulu *Python - základy*\n",
    "\n",
    "Navážeme tedy a podíváme se blíž na koncepty *dědičnost*, *polymorfismus* a *abstraktní třída*"
   ]
  },
  {
   "cell_type": "markdown",
   "metadata": {},
   "source": [
    "### Cvičení #4 \n",
    "Vytvoř abstractní třídu GeomObject, která má atributy `color` (`str`) a `obj_type` (`str`). obj_type označuje typu objektu - např. `\"cuboid\"` pro kvádr.\n",
    "\n",
    "Dále zadefinuj magickou funkci `__str__`, která vrací textovou informaci o barvě a typu objektu.\n",
    "\n",
    "Pro třídu GeomObject také naimplementuj dvě abstraktní metody: `volume()` a `surface()`, které spočítají a vrátí objem respektive povrch objektu."
   ]
  },
  {
   "cell_type": "code",
   "execution_count": 20,
   "metadata": {},
   "outputs": [],
   "source": [
    "from abc import ABC, abstractmethod\n",
    "import math\n",
    "\n",
    "class GeomObject(ABC):\n",
    "    def __init__(self, color: str, obj_type: str = \"\"):\n",
    "        # TODO: uloz barvu a typ objektu jako atributy\n",
    "        pass\n",
    "\n",
    "    def __str__(self):\n",
    "        # TODO vrat retezec s informacemi o objektu\n",
    "        # napr. \"I am a red circle\" - pouzij atributy color a obj_type\n",
    "        pass\n",
    "\n",
    "    # TODO: vytvor abstraktni metodu volume, jen s argumentem self\n",
    "\n",
    "    # TODO: vytvor abstraktni metodu surface, jen s argumentem self"
   ]
  },
  {
   "cell_type": "markdown",
   "metadata": {},
   "source": [
    "### Cvičení #5\n",
    "Vytvoř třídu `Cuboid` (Kvádr), která dědí z `GeomObject` se třemi parametry `a`, `b` a `c`. Doimplementuj pro ni abstraktní metody `volume()` a `surface()`. obj_type nastav při inicializaci otcovské třídy na `\"cuboid\"`\n",
    "\n",
    "Vytvoř třídu `Sphere` (Koule), která dědí z `GeomObject` se jedním parametrem `r`. Doimplementuj pro ni abstraktní metody `volume()` a `surface()`. obj_type nastav při inicializaci otcovské třídy na `\"sphere\"`.\n",
    "\n",
    "Vzorečky pro výpočet najdi na netu :)"
   ]
  },
  {
   "cell_type": "code",
   "execution_count": 21,
   "metadata": {},
   "outputs": [],
   "source": [
    "# create class Cuboid which inherits from GeomObject\n",
    "class Cuboid(GeomObject):\n",
    "    def __init__(self, color: str, a: float, b: float, c: float):\n",
    "        # TODO zavolej konstruktor rodice a uloz a, b, c jako atributy\n",
    "        pass\n",
    "\n",
    "    def volume(self):\n",
    "        # TODO vrat objem kvadru spocitany pomoci attributu objektu\n",
    "        pass\n",
    "\n",
    "    def surface(self):\n",
    "        # TODO vrat povrch kvadru spocitany pomoci attributu objektu\n",
    "        pass\n",
    "\n",
    "# create class Sphere which inherits from GeomObject\n",
    "class Sphere(GeomObject):\n",
    "    def __init__(self, color: str, r: float):\n",
    "        # TODO zavolej konstruktor rodice a uloz r jako atribut\n",
    "        pass\n",
    "\n",
    "    def volume(self):\n",
    "        # TODO vrat objem koule spocitany pomoci attributu r\n",
    "        pass\n",
    "\n",
    "    def surface(self):\n",
    "        # TODO vrat povrch koule spocitany pomoci attributu r\n",
    "        pass"
   ]
  },
  {
   "cell_type": "markdown",
   "metadata": {},
   "source": [
    "### Cvičení #6\n",
    "Vytvoř třídu `Cube` (Krychle), která dědí ze třídy `Cuboid` a má jediný parametr `a`. Chytrou inicializací si ušetři práci. \n",
    "\n",
    "Nezapomeň přejnastavit atribut obj_type při inicializaci na `\"cube\"`"
   ]
  },
  {
   "cell_type": "code",
   "execution_count": 22,
   "metadata": {},
   "outputs": [],
   "source": [
    "# create class Cube which inherits from Cuboid\n",
    "class Cube(Cuboid):\n",
    "    def __init__(self, color: str, a: float):\n",
    "        # TODO vhodne zavolej konstruktor rodice\n",
    "        # zmen hodnotu atributu obj_type, aby odpovidal teto tride\n",
    "        pass"
   ]
  },
  {
   "cell_type": "markdown",
   "metadata": {},
   "source": [
    "Výborně! S trochou dobré vůle by nám měl následující kód vytiskout podrobnosti našich objektů."
   ]
  },
  {
   "cell_type": "code",
   "execution_count": null,
   "metadata": {},
   "outputs": [],
   "source": [
    "# test\n",
    "sphere = Sphere(\"red\", 5)\n",
    "print(sphere)\n",
    "print(\"Volume:\", sphere.volume())\n",
    "print(\"Surface:\", sphere.surface())\n",
    "\n",
    "print()\n",
    "cube = Cube(\"blue\", 5)\n",
    "print(cube)\n",
    "print(\"Volume:\", cube.volume())\n",
    "print(\"Surface:\", cube.surface())"
   ]
  },
  {
   "cell_type": "markdown",
   "metadata": {},
   "source": [
    "### Cvičení #7: dataclass\n",
    "\n",
    "Předefinujte třídu `Cuboid` ze cvičení 5 jako `@dataclass` třídu.\n",
    "\n",
    "Dále přidejte statickou metodu `help()` (@staticmethod), která vytiskne pomocnou zprávu pro uživatele, případně dodá příklad, jak třídu instanciovat  "
   ]
  },
  {
   "cell_type": "code",
   "execution_count": 24,
   "metadata": {},
   "outputs": [],
   "source": [
    "# recreate class Cuboid which inherits from GeomObject as a @dataclass\n",
    "from dataclasses import dataclass\n",
    "\n",
    "@dataclass\n",
    "class Cuboid(GeomObject):\n",
    "    # TODO: pridej atributy a, b, c v dataclass stylu\n",
    "\n",
    "    def volume(self):\n",
    "        # TODO vrat objem kvadru, muzes zkopirovat z predchoziho prikladu\n",
    "        pass\n",
    "\n",
    "    def surface(self):\n",
    "        # TODO vrat povrch kvadru, muzes zkopirovat z predchoziho prikladu\n",
    "        pass\n",
    "\n",
    "    # TODO: pridej statickou metodu help(), ktera vypise napovedu pro nakladani s tridou"
   ]
  },
  {
   "cell_type": "code",
   "execution_count": null,
   "metadata": {},
   "outputs": [],
   "source": [
    "# test the new funkcionality\n",
    "Cuboid.help()"
   ]
  },
  {
   "cell_type": "markdown",
   "metadata": {},
   "source": [
    "### Cvičení #8: Bonus\n",
    "\n",
    "Zkuste se zamyslet, v jakém pořadí budou volány inicializační funkce v následující hierarchii tříd při vytvoření objektu třídy `D`\n",
    "\n",
    "```python\n",
    "class A:\n",
    "    def __init__(self):\n",
    "        print(\"Initializing class A\")\n",
    "\n",
    "class B(A):\n",
    "    def __init__(self):\n",
    "        super().__init__()\n",
    "        print(\"Initializing class B\")\n",
    "\n",
    "class C(A):\n",
    "    def __init__(self):\n",
    "        super().__init__()\n",
    "        print(\"Initializing class C\")\n",
    "\n",
    "class D(B, C):\n",
    "    def __init__(self):\n",
    "        super().__init__()\n",
    "\n",
    "# Creating an instance of class D\n",
    "d_instance = D()\n",
    "```"
   ]
  },
  {
   "cell_type": "markdown",
   "metadata": {},
   "source": [
    "-------------------------------------------------------------------------"
   ]
  }
 ],
 "metadata": {
  "kernelspec": {
   "display_name": "Python 3",
   "language": "python",
   "name": "python3"
  },
  "language_info": {
   "codemirror_mode": {
    "name": "ipython",
    "version": 3
   },
   "file_extension": ".py",
   "mimetype": "text/x-python",
   "name": "python",
   "nbconvert_exporter": "python",
   "pygments_lexer": "ipython3",
   "version": "3.10.12"
  }
 },
 "nbformat": 4,
 "nbformat_minor": 2
}
