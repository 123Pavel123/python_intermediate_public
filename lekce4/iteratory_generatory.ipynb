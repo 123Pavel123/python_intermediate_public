{
 "cells": [
  {
   "cell_type": "markdown",
   "metadata": {},
   "source": [
    "## Iterátory\n",
    "V jazyce Python je **iterátor** objekt, který implementuje protokol iterátoru, ten se skládá ze dvou metod: `__iter__()` a `__next__()`. Tyto metody umožňují použít objekt například ve smyčce `for` a iterovat pomocí něj postupně přes posloupnost položek. Pokud chce iterátor iterování ukončit, vyvolá výjimku `StopIteration`."
   ]
  },
  {
   "cell_type": "markdown",
   "metadata": {},
   "source": [
    "#### Cvičení 4 (vypracuje Adam)\n",
    "Zadefinujte třídu `MyRange`, která bude implementovat iterátor. Třída bude mít konstruktor s argumenty `start`, `stop` a `step`. Třída bude iterovat přes čísla od `start` do `stop` s krokem `step`. Pokud není uveden `step`, použije se krok 1."
   ]
  },
  {
   "cell_type": "code",
   "execution_count": 66,
   "metadata": {},
   "outputs": [],
   "source": [
    "class MyRange:\n",
    "    def __init__(self, start, stop, step=1):\n",
    "        # TODO: vytvor attributy start, stop a step\n",
    "        # TODO: vytvor atribut current, ktery bude zaznamenavat aktualni hodnotu\n",
    "        pass\n",
    "\n",
    "    def __iter__(self):\n",
    "        return self\n",
    "\n",
    "    def __next__(self):\n",
    "        # TODO: pokud je current >= stop, vyvolej vyjimku StopIteration\n",
    "        # TODO: jinak vrat aktualni hodnotu a aktualizuj current (zvys ho o step)\n",
    "        pass"
   ]
  },
  {
   "cell_type": "code",
   "execution_count": 67,
   "metadata": {},
   "outputs": [
    {
     "name": "stdout",
     "output_type": "stream",
     "text": [
      "\n",
      "iterace pomoci `for`\n",
      "0\n",
      "3\n",
      "6\n",
      "9\n",
      "\n",
      "pouziti next()\n",
      "0\n",
      "3\n",
      "6\n"
     ]
    }
   ],
   "source": [
    "# pouziti MyRange\n",
    "print(\"\\niterace pomoci `for`\")\n",
    "for i in MyRange(0, 10, 3):\n",
    "    print(i)\n",
    "\n",
    "print(\"\\npouziti next()\")\n",
    "rng = MyRange(0, 10, 3)\n",
    "print(next(rng))\n",
    "print(next(rng))\n",
    "print(next(rng))"
   ]
  },
  {
   "cell_type": "markdown",
   "metadata": {},
   "source": [
    "#### Cvičení 5\n",
    "Zadefinujte třídu `Fibonacci`, která bude implementovat iterátor. Třída bude mít konstruktor bez argumentů a bude donekonečna iterovat přes čísla z Fibonacciho posloupnosti.\n",
    "\n",
    "<br></br>\n",
    "*Poznámka*: **Fibonacciho posloupnost** je posloupnost čísel iniciovaná čísly 0 a 1. Každé další číslo je pak součtem dvou předchozích čísel. \n",
    "\n",
    "Tedy: 0, 1, 1, 2, 3, 5, 8, 13, 21, 34, ..."
   ]
  },
  {
   "cell_type": "code",
   "execution_count": null,
   "metadata": {},
   "outputs": [],
   "source": [
    "class Fibonacci:\n",
    "    def __init__(self):\n",
    "        # TODO: vytvor atributy f1 a f2, ktere budou zaznamenavat posledni dve cisla\n",
    "        pass\n",
    "\n",
    "    def __iter__(self):\n",
    "        return self\n",
    "\n",
    "    def __next__(self):\n",
    "        # TODO odloz si hodnotu f1 do pomocne promenne\n",
    "        # TODO aktualizuj f1 a f2\n",
    "\n",
    "        # TODO: vrat hodnotu ulozenou v pomocne promenne\n",
    "        pass"
   ]
  },
  {
   "cell_type": "code",
   "execution_count": null,
   "metadata": {},
   "outputs": [],
   "source": [
    "# pouziti Fibonacci\n",
    "print(\"\\niterace pomoci `for`\")\n",
    "for i in Fibonacci():\n",
    "    if i > 70:\n",
    "        break\n",
    "    print(i)\n",
    "\n",
    "print(\"\\npouziti next()\")\n",
    "fib = Fibonacci()\n",
    "print(next(fib))\n",
    "print(next(fib))\n",
    "print(next(fib))\n",
    "print(next(fib))"
   ]
  },
  {
   "cell_type": "markdown",
   "metadata": {},
   "source": [
    "#### Bonus: Kolo štěstí\n",
    "Vytvořte **nekonečný** iterátor `WheelOfFortune`, kterému zadáme seznam jmen `names` a který nám při každém volání vrátí náhodné jméno z tohoto seznamu. Pokud jsme všechna jména již vyčerpali, upozorníme uživatele, obnovíme seznam jmen a začneme znovu.\n",
    "\n",
    "Pro volbu náhodného jména můžete použít např.:\n",
    "\n",
    "1. `random.randint()` a `list.pop()` nebo\n",
    "2. `random.choice()` a `list.remove()` nebo\n",
    "3. `random.shuffle()` a zapamatování si indexu posledního vybraného jména.\n",
    "4. ..."
   ]
  },
  {
   "cell_type": "code",
   "execution_count": null,
   "metadata": {},
   "outputs": [],
   "source": [
    "import random\n",
    "from copy import deepcopy\n",
    "\n",
    "class WheelOfFortune:\n",
    "    def __init__(self, all_names):\n",
    "        self.all_names = all_names   # [\"jana\", \"martin\", \"ondra\"],  index = 2\n",
    "        self.left_names = deepcopy(all_names)\n",
    "\n",
    "    def __iter__(self):\n",
    "        pass # TODO\n",
    "\n",
    "    def __next__(self):\n",
    "        pass # TODO\n",
    "\n",
    "\n",
    "# try to use the WheelOfFortune\n",
    "names = [\"John\", \"Jane\", \"Jack\", \"Jill\", \"Joe\", \"Jenny\", \"Jade\", \"Jim\"]\n",
    "\n",
    "for i, name in enumerate(WheelOfFortune(names)):\n",
    "    print(\"The lucky one is: \", name)\n",
    "\n",
    "    if i == 10:\n",
    "        break"
   ]
  },
  {
   "cell_type": "markdown",
   "metadata": {},
   "source": [
    "## Generátory\n",
    "V Pythonu je generátor způsob, jak vytvářet **jednoduché** iterátory efektivně. Používá klíčové slovo `yield` k línému generování hodnot, což šetří paměť. Generátory jsou definovány jako funkce a automaticky poskytují iterátor pro postupné získávání hodnot.\n",
    "\n",
    "\n",
    "#### Ukázka 1:\n",
    "```python\n",
    "def my_generator():\n",
    "    yield 1\n",
    "    yield 2\n",
    "    yield 3\n",
    "\n",
    "for i in my_generator():\n",
    "    print(i, end=\" \")\n",
    "\n",
    "# Output: 1 2 3\n",
    "```\n",
    "Jednoduchý generátor, který vrací čísla 1, 2 a 3. Potom skončí (vyhodí výjimku `StopIteration`).\n",
    "\n",
    "#### Ukázka 2:\n",
    "```python\n",
    "def my_generator(n):\n",
    "    current = 0\n",
    "    while current < n:\n",
    "        if current % 2 == 0:\n",
    "            yield current\n",
    "        current += 1\n",
    "\n",
    "for i in my_generator(5):\n",
    "    print(i, end=\" \")\n",
    "\n",
    "# Output: 0 2 4\n",
    "```\n",
    "Generátor, který iteruje přes čísla od 0 do n a vrací pouze sudá čísla.\n",
    "\n",
    "#### Ukázka 3:\n",
    "```python\n",
    "def my_generator():\n",
    "    current = 0\n",
    "    while True:\n",
    "        if current % 2 == 0:\n",
    "            yield current\n",
    "        current += 1\n",
    "\n",
    "for i in my_generator():\n",
    "    print(i, end=\" \")\n",
    "\n",
    "# Output: 0 2 4 6 8 10 12 14 16 18 20 22 24 26 28 30 ...\n",
    "```\n",
    "Nekonečný generátor, který iteruje přes všechna sudá čísla., Přičemž v paměti drží vždy jen jedno číslo.\n",
    "\n",
    "\n"
   ]
  },
  {
   "cell_type": "markdown",
   "metadata": {},
   "source": [
    "#### Cvičení 6 (zase vypracuje Adam)\n",
    "Zadefinujte funkci `my_range`, která bude implementovat generátor. Funkce bude mít argumenty `start`, `stop` a `step`. Funkce bude generovat čísla od `start` do `stop` s krokem `step`. Pokud není uveden `step`, použije se krok 1."
   ]
  },
  {
   "cell_type": "code",
   "execution_count": null,
   "metadata": {},
   "outputs": [],
   "source": [
    "def my_range(start, stop, step=1):\n",
    "    # TODO: Inicializace promenne current (jako start)\n",
    "    # TODO: Dokud je current < stop, iteruj\n",
    "    # TODO: Vrat aktualni hodnotu current\n",
    "    # TODO: Aktualizuj current (zvys o step)"
   ]
  },
  {
   "cell_type": "code",
   "execution_count": null,
   "metadata": {},
   "outputs": [],
   "source": [
    "# pouziti my_range\n",
    "print(\"\\niterace pomoci `for`\")\n",
    "for i in my_range(0, 10, 3):\n",
    "    print(i)\n",
    "\n",
    "print(\"\\npouziti next()\")\n",
    "rng = my_range(0, 10, 3)\n",
    "print(next(rng))\n",
    "print(next(rng))"
   ]
  },
  {
   "cell_type": "markdown",
   "metadata": {},
   "source": [
    "#### Cvičení 7\n",
    "Zadefinujte funkci `fibonacci`, která bude implementovat generátor. Funkce nebude mít žádné argumenty a bude generovat čísla z Fibonacciho posloupnosti donekonečna."
   ]
  },
  {
   "cell_type": "code",
   "execution_count": null,
   "metadata": {},
   "outputs": [],
   "source": [
    "def fibonacci():\n",
    "    # TODO: Inicializace f1\n",
    "    # TODO: Inicializace f2\n",
    "    # TODO: nekonečna smyčka\n",
    "        # TODO: Vrat aktualni hodnotu f1 (yield)\n",
    "        # TODO: Aktualizuj f1 a f2"
   ]
  },
  {
   "cell_type": "markdown",
   "metadata": {},
   "source": [
    "### Domácí úkol\n",
    "Zkuste naimplementovat generátor `wheel_of_fortune`, který bude fungovat stejně jako iterátor z předchozího cvičení. \n",
    "\n",
    "Řádky kódu starající se o funkcionalitu kolečka štěstí budou identické, jako u iterátoru, změní se jen struktura kódu. Například přibude `while` cyklus a klauzule `yield`, které nahradí `return`."
   ]
  },
  {
   "cell_type": "code",
   "execution_count": null,
   "metadata": {},
   "outputs": [],
   "source": [
    "def wheel_of_fortune(all_names):\n",
    "    # TODO: vhodne prenes funkcionalitu z WheelOfFortune do generatoru\n",
    "    pass\n",
    "\n",
    "# priklad pouziti wheel_of_fortune\n",
    "for i, name in enumerate(wheel_of_fortune([\"John\", \"Jane\", \"Jack\", \"Jill\"])):\n",
    "    print(\"The lucky one is: \", name)\n",
    "\n",
    "    if i == 10:\n",
    "        break"
   ]
  },
  {
   "cell_type": "markdown",
   "metadata": {},
   "source": [
    "## Profilování kódu\n",
    "Profilování kódu je proces měření času, který zabere vykonání jednotlivých částí kódu. Profilování kódu nám pomáhá identifikovat části kódu, které zabírají nejvíce času a které je tedy potřeba **optimalizovat**.\n",
    "\n",
    "#### Ukázka 1: použití `timeit.timeit()`"
   ]
  },
  {
   "cell_type": "code",
   "execution_count": 108,
   "metadata": {},
   "outputs": [
    {
     "name": "stdout",
     "output_type": "stream",
     "text": [
      "0.11235300096450374\n",
      "6.059882799978368\n"
     ]
    }
   ],
   "source": [
    "import timeit\n",
    "\n",
    "# 1. zmereni zadefinovani funkce\n",
    "nastaveni = \"from math import sqrt\"\n",
    "\n",
    "kod = '''\n",
    "def funkce():\n",
    "    return [sqrt(x) for x in range(100)]\n",
    "'''\n",
    "\n",
    "# 2. zmereni pouziti funkce\n",
    "nastaveni2 = '''\n",
    "from math import sqrt\n",
    "\n",
    "def funkce():\n",
    "    return [sqrt(x) for x in range(100)]\n",
    "'''\n",
    "\n",
    "kod2 = \"funkce()\"\n",
    "\n",
    "print(timeit.timeit(stmt=kod, setup=nastaveni,   number=1000000))\n",
    "print(timeit.timeit(stmt=kod2, setup=nastaveni2, number=1000000))"
   ]
  },
  {
   "cell_type": "markdown",
   "metadata": {},
   "source": [
    "#### Ukázka 2: srovnání rychlosti bloků s obdobnou funkcí"
   ]
  },
  {
   "cell_type": "code",
   "execution_count": 113,
   "metadata": {},
   "outputs": [
    {
     "name": "stdout",
     "output_type": "stream",
     "text": [
      "numbers[i]**2          : 3.651357014954556\n",
      "num**2                 : 3.299847526010126\n",
      "numbers[i]*numbers[i]  : 0.6726883820374496\n",
      "num*num                : 0.8576602319953963\n"
     ]
    }
   ],
   "source": [
    "# postupna optimalizace kodu\n",
    "\n",
    "nastaveni = '''\n",
    "numbers = list(range(10000000))\n",
    "'''\n",
    "\n",
    "kod = '''\n",
    "for i in range(len(numbers)):\n",
    "    numbers[i]**2\n",
    "'''\n",
    "\n",
    "kod2 = '''\n",
    "for num in numbers:\n",
    "    num**2\n",
    "'''\n",
    "\n",
    "kod3 = '''\n",
    "for i in range(len(numbers)):\n",
    "    numbers[i]*numbers[i]\n",
    "'''\n",
    "\n",
    "kod4 = '''\n",
    "for num in numbers:\n",
    "    num*num\n",
    "'''\n",
    "\n",
    "print(\"numbers[i]**2          :\", timeit.timeit(stmt=kod, setup=nastaveni, number=1))\n",
    "print(\"num**2                 :\", timeit.timeit(stmt=kod2, setup=nastaveni, number=1))\n",
    "print(\"numbers[i]*numbers[i]  :\", timeit.timeit(stmt=kod3, setup=nastaveni, number=1))\n",
    "print(\"num*num                :\", timeit.timeit(stmt=kod4, setup=nastaveni, number=1))"
   ]
  },
  {
   "cell_type": "markdown",
   "metadata": {},
   "source": [
    "#### Cvičení 8\n",
    "Změřte jaká je rychlejší z těchto metod pro zřetězení seznamu čísel.\n",
    "\n",
    "<br></br>\n",
    "1. pomocí `for` cyklu (ve formátu `list comprehension`):\n",
    "```python\n",
    "''.join([str(x) for x in range(1000)])\n",
    "```\n",
    "\n",
    "2. pomocí funkce `map()`:\n",
    "```python\n",
    "''.join(map(str, range(1000)))\n",
    "```"
   ]
  },
  {
   "cell_type": "code",
   "execution_count": 117,
   "metadata": {},
   "outputs": [
    {
     "name": "stdout",
     "output_type": "stream",
     "text": [
      "List Comprehension Time: 10.665016487997491 seconds\n",
      "Map Method Time: 8.406243363046087 seconds\n"
     ]
    }
   ],
   "source": [
    "# Using list comprehension\n",
    "comp_time = timeit.timeit(\"''.join([str(x) for x in range(1000)])\", number=100000)\n",
    "\n",
    "# Using map method\n",
    "map_time = timeit.timeit(\"''.join(map(str, range(1000)))\", number=100000)\n",
    "\n",
    "\n",
    "print(f\"List Comprehension Time: {comp_time} seconds\")\n",
    "print(f\"Map Method Time: {map_time} seconds\")"
   ]
  }
 ],
 "metadata": {
  "kernelspec": {
   "display_name": "Python 3",
   "language": "python",
   "name": "python3"
  },
  "language_info": {
   "codemirror_mode": {
    "name": "ipython",
    "version": 3
   },
   "file_extension": ".py",
   "mimetype": "text/x-python",
   "name": "python",
   "nbconvert_exporter": "python",
   "pygments_lexer": "ipython3",
   "version": "3.11.2"
  }
 },
 "nbformat": 4,
 "nbformat_minor": 2
}
