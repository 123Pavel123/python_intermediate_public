{
 "cells": [
  {
   "cell_type": "markdown",
   "metadata": {},
   "source": [
    "# Python intermediate\n",
    "\n",
    "\n",
    "Vítej ve cvičebním notebooku modulu Python intermediate! Postupně tě interaktivně provede probíranými tématy a poodkryje další zákoutí jazyka Python :) "
   ]
  },
  {
   "cell_type": "code",
   "execution_count": 1,
   "metadata": {},
   "outputs": [],
   "source": [
    "import os\n",
    "import random\n",
    "from pathlib import Path\n",
    "\n",
    "%load_ext autoreload\n",
    "%autoreload 2"
   ]
  },
  {
   "cell_type": "code",
   "execution_count": 2,
   "metadata": {},
   "outputs": [],
   "source": [
    "# Kod z OOP (uz jsme udelali)\n",
    "from abc import ABC, abstractmethod\n",
    "import math\n",
    "\n",
    "# create abstract class GeomObject with abstract method volume and surface\n",
    "class GeomObject(ABC):\n",
    "    def __init__(self, color: str, obj_type: str = \"\"):\n",
    "        self.color = color\n",
    "        self.obj_type = obj_type\n",
    "\n",
    "    def __str__(self):\n",
    "        return f\"This is a {self.color} {self.obj_type}\"\n",
    "\n",
    "    @abstractmethod\n",
    "    def volume(self):\n",
    "        pass\n",
    "\n",
    "    @abstractmethod\n",
    "    def surface(self):\n",
    "        pass\n",
    "\n",
    "# create class Cuboid which inherits from GeomObject\n",
    "class Cuboid(GeomObject):\n",
    "    def __init__(self, color: str, a: float, b: float, c: float):\n",
    "        super().__init__(color, \"cuboid\")\n",
    "        self.a = a\n",
    "        self.b = b\n",
    "        self.c = c\n",
    "\n",
    "    def volume(self):\n",
    "        return self.a * self.b * self.c\n",
    "\n",
    "    def surface(self):\n",
    "        return 2 * (self.a * self.b + self.a * self.c + self.b * self.c)\n",
    "\n",
    "# create class Sphere which inherits from GeomObject\n",
    "class Sphere(GeomObject):\n",
    "    def __init__(self, color: str, r: float):\n",
    "        super().__init__(color, \"sphere\")\n",
    "        self.r = r\n",
    "\n",
    "    def volume(self):\n",
    "        return 4/3 * math.pi * self.r ** 3\n",
    "\n",
    "    def surface(self):\n",
    "        return 4 * math.pi * self.r ** 2\n",
    "\n",
    "# create class Cube which inherits from Cuboid\n",
    "class Cube(Cuboid):\n",
    "    def __init__(self, color: str, a: float):\n",
    "        super().__init__(color, a, a, a)\n",
    "        self.obj_type = \"cube\""
   ]
  },
  {
   "cell_type": "markdown",
   "metadata": {},
   "source": [
    "-------------------------------------------------------------------------"
   ]
  },
  {
   "cell_type": "markdown",
   "metadata": {},
   "source": [
    "# Serializace\n",
    "Serializace je proces převodu datových struktur nebo objektů do formátu, který lze snadno uložit, přenášet nebo rekonstruovat. \n",
    "\n",
    "Pro serializaci v jazyce Python existují různé formáty a knihovny, například `pickle`, `json` a `csv`. Každý z nich má své výhody a nevýhody v závislosti na případu použití."
   ]
  },
  {
   "cell_type": "markdown",
   "metadata": {},
   "source": [
    "### Pickle:\n",
    "\n",
    "**Výhody:**\n",
    "1. **Podpora složitých datových struktur:** `Pickle` dokáže serializovat širokou škálu objektů Pythonu, včetně vlastních tříd, funkcí a složitějších datových struktur.\n",
    "\n",
    "**Nevýhody:**\n",
    "1. **Specifický pro Python:** Pickle je specifický pro Python a nemusí být kompatibilní s jinými programovými jazyky.\n",
    "2. **Bezpečnostní rizika:** Rozbalování dat z nedůvěryhodného zdroje může představovat bezpečnostní riziko, protože během procesu rozbalování může být spuštěn škodlivý kód.\n",
    "3. **Velikost:** Pickle může vytvářet větší serializovaná data ve srovnání s lidsky čitelnějšími formáty."
   ]
  },
  {
   "cell_type": "markdown",
   "metadata": {},
   "source": [
    "#### Cvičení 9: `pickle`\n",
    "Za pomoci modulu `pickle` ulož do souboru `cube.pkl` objekt třídy Cube z minulého cvičení. Následně objekt opět načti."
   ]
  },
  {
   "cell_type": "code",
   "execution_count": null,
   "metadata": {},
   "outputs": [],
   "source": [
    "import pickle\n",
    "\n",
    "c = Cube(\"red\", 6)\n",
    "\n",
    "# TODO: uloz c do pickle\n",
    "# with ...\n",
    "\n",
    "\n",
    "# TODO: nacti c z pickle\n",
    "# with ...\n",
    "\n",
    "\n",
    "print(c)"
   ]
  },
  {
   "cell_type": "markdown",
   "metadata": {},
   "source": [
    "### JSON:\n",
    "\n",
    "**Výhody:**\n",
    "1. **Lidsky čitelný formát:** JSON je lidsky čitelný formát, což usnadňuje kontrolu a ladění.\n",
    "2. **Nezávislost na jazyku:** JSON je široce podporován v různých programovacích jazycích.\n",
    "3. **Webová integrace:** Běžně se používá pro výměnu dat ve webových aplikacích a rozhraních API.\n",
    "\n",
    "**Nevýhody:**\n",
    "1. **Omezené datové typy:** JSON má omezení při serializaci některých datových typů, jako jsou vlastní třídy a funkce. Typy, které JSON podporuje: řetězce, čísla, seznamy, slovníky, `True`/`False`, `None`. "
   ]
  },
  {
   "cell_type": "markdown",
   "metadata": {},
   "source": [
    "#### Cvičení 10: `json`\n",
    "Za pomoci modulu `json` ulož do souboru `cube.pkl` objekt třídy Cube z minulého cvičení."
   ]
  },
  {
   "cell_type": "code",
   "execution_count": null,
   "metadata": {},
   "outputs": [],
   "source": [
    "import json\n",
    "\n",
    "c = Cube(\"red\", 6)\n",
    "\n",
    "# TODO: uloz c do jsonu\n",
    "# with ..."
   ]
  },
  {
   "cell_type": "markdown",
   "metadata": {},
   "source": [
    "Jestli jsi neuspěl, našels správné řešení :D \n",
    "\n",
    "Serializovat objekty vlastních tříd nejde. Zkus ale do jsonu serializovat například atributy objektu Cube"
   ]
  },
  {
   "cell_type": "code",
   "execution_count": null,
   "metadata": {},
   "outputs": [],
   "source": [
    "c = Cube(\"red\", 6)\n",
    "c_atributes = c.__dict__\n",
    "\n",
    "# TODO: zapis c_attributes do json souboru\n",
    "# with ...\n",
    "\n",
    "# TODO: nacti c z jsonu do promenne loaded_attributes\n",
    "# with ..\n",
    "    # loaded_attributes = ..."
   ]
  },
  {
   "cell_type": "code",
   "execution_count": null,
   "metadata": {},
   "outputs": [],
   "source": [
    "# test: pojdme zkusit inicializovat novy kvadr z loaded_attributes\n",
    "c = Cube(loaded_attributes[\"color\"], attributes[\"a\"])\n",
    "print(c)"
   ]
  },
  {
   "cell_type": "markdown",
   "metadata": {},
   "source": [
    "### CSV (hodnoty oddělené čárkou):\n",
    "\n",
    "**Výhody:**\n",
    "1. **Jednoduchý:** CSV je jednoduchý a široce podporovaný formát pro tabulková data.\n",
    "2. **Lidsky čitelný:** Soubory CSV jsou čitelné pro člověka a lze je snadno upravovat pomocí textového editoru nebo tabulkového procesoru. V případě tabulek je i výrazně čitelnější, než JSON.\n",
    "3. **Strukturovaná data:** Vhodné pro tabulková data s pevným počtem sloupců.\n",
    "\n",
    "**Nevýhody:**\n",
    "1. **Plochá struktura:** CSV není vhodný pro hierarchické nebo vnořené datové struktury (narozdíl od JSONu). \n",
    "2. **Omezené datové typy:** Stejně jako JSON má CSV omezení při serializaci složitých datových typů, jako jsou vlastní třídy a funkce.\n",
    "3. **Neukládá datové typy:** CSV explicitně nezobrazuje datové typy, takže informace o typu může být ztracena (narozdíl od JSONu). Naříklad v CSV není rozdíl mezi `True` a `'True'`."
   ]
  },
  {
   "cell_type": "markdown",
   "metadata": {},
   "source": [
    "#### Cvičení 11: `csv`\n",
    "\n",
    "Za pomoci modulu `csv` ulož do souboru `cube.pkl` tabulku atributů objektů třídy Cube. \n",
    "\n",
    "Použij funkce `writer.writerow` pro zápis jednoho řádku (ze seznamu prvků) a `writer.writerows` pro zápis více řádků (seznam seznamů prvků)\n"
   ]
  },
  {
   "cell_type": "code",
   "execution_count": null,
   "metadata": {},
   "outputs": [],
   "source": [
    "import csv\n",
    "from hashlib import sha3_224\n",
    "\n",
    "c1 = Cube(\"red\", 6)\n",
    "c2 = Cube(\"green\", 3)\n",
    "c3 = Cube(\"blue\", 2)\n",
    "c4 = Cube(\"yellow\", 1)\n",
    "\n",
    "# vytvor header pro csv soubor\n",
    "header = c1.__dict__.keys()\n",
    "\n",
    "# vytvor seznam atributu objektu\n",
    "attributes = [c1.__dict__.values(),\n",
    "           c2.__dict__.values(),\n",
    "           c3.__dict__.values(),\n",
    "           c4.__dict__.values()]\n",
    "\n",
    "\n",
    "# zapis atributy objektu c1-c4 do csv souboru\n",
    "# with ...\n",
    "    # TODO: vytvor csv.writer\n",
    "    # TODO: pouzij writer.writerow pro zapsani hlavicky\n",
    "    # TODO: pouzij writer.writerows pro zapsani atributu\n",
    "\n",
    "# nacti atributy objektu z csv souboru\n",
    "loaded_attributes = []\n",
    "# with ...\n",
    "    # TODO: vytvor csv.reader\n",
    "    # TODO: precti hlavicku - bude vracena pomoci `next(header)`\n",
    "    # TODO: iteruovani skrz reader vraci radky csv souboru radek po radku"
   ]
  }
 ],
 "metadata": {
  "kernelspec": {
   "display_name": "Python 3",
   "language": "python",
   "name": "python3"
  },
  "language_info": {
   "codemirror_mode": {
    "name": "ipython",
    "version": 3
   },
   "file_extension": ".py",
   "mimetype": "text/x-python",
   "name": "python",
   "nbconvert_exporter": "python",
   "pygments_lexer": "ipython3",
   "version": "3.11.2"
  }
 },
 "nbformat": 4,
 "nbformat_minor": 2
}
