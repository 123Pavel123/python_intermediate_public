{
 "cells": [
  {
   "cell_type": "markdown",
   "metadata": {},
   "source": [
    "# Python intermediate\n",
    "\n",
    "\n",
    "Vítej ve cvičebním notebooku modulu Python intermediate! Postupně tě interaktivně provede probíranými tématy a poodkryje další zákoutí jazyka Python :) "
   ]
  },
  {
   "cell_type": "code",
   "execution_count": 1,
   "metadata": {},
   "outputs": [],
   "source": [
    "import os\n",
    "import random\n",
    "from pathlib import Path\n",
    "\n",
    "%load_ext autoreload\n",
    "%autoreload 2"
   ]
  },
  {
   "cell_type": "markdown",
   "metadata": {},
   "source": [
    "## Dekorátory\n",
    "Dekorátor je objekt - uvažujme teď funkci, která může rozšiřovat nebo měnít funkčnost jiné funkce, aniž bychom ji ale přímo měnili. Lze si to představit tak, že vstupem dekorátoru je funkce, jejíž chování chceme pozměnit a výstupem je funkce s pozměněným chováním, která se poté použije místo původní funkce.\n",
    "\n",
    "Dekorátor se zavolá vložením řádku začínajícího znakem `@` před definici dekorovaného objektu.\n",
    "\n"
   ]
  },
  {
   "cell_type": "markdown",
   "metadata": {},
   "source": [
    "#### Cvičení 12\n",
    "Zadefinujte dekorátor `@measure_execution_time`, který bude měřit dobu běhu funkce, před kterou ho umístíme. Dekorátor nemá žádné vlastní argumenty. Nezapomeňte ale na argumenty funkce, která je dekorátorem upravená.\n",
    "\n",
    "\n",
    "*Nápověda:* Pužijte funkci `time()` z modulu `time`, která vrací čas v sekundách, který uběhl od Nového roku roku 1970. Odečtení dvou hodnot vrácených touto funkcí nám dá čas, který uběhl mezi voláními"
   ]
  },
  {
   "cell_type": "code",
   "execution_count": null,
   "metadata": {},
   "outputs": [],
   "source": [
    "import time\n",
    "\n",
    "def measure_execution_time(func):\n",
    "    def wrapper(TODO):\n",
    "        # TODO: uloz si cas spusteni funkce\n",
    "        # TODO: spust puvodni funkci (uloz si vysledek)\n",
    "        # TODO: uloz si cas po dokonceni funkce\n",
    "        # TODO: vytiskni cas behu\n",
    "        # TODO: nezapomen vratit vysledek zmerene funkce, aby byla dodrzena jeji funkcionalita\n",
    "        pass\n",
    "    # TODO: vrat wrapper"
   ]
  },
  {
   "cell_type": "markdown",
   "metadata": {},
   "source": [
    "#### Cvičení 13\n",
    "Upravte níže zadefinovanou funkci `slow_function()` tak, aby se doba jejího výpočtu měřila pomocí dekorátoru `@measure_execution_time`. \n",
    "\n",
    "Funkci `slow_function()` následně zavolejte a její výstup uložte do proměnné `result`"
   ]
  },
  {
   "cell_type": "code",
   "execution_count": null,
   "metadata": {},
   "outputs": [],
   "source": [
    "# TODO: pouzij dekorator measure_execution_time pro funkci slow_function\n",
    "def slow_function(sleep_time: int = 2):\n",
    "    time.sleep(sleep_time)\n",
    "    return \"Okay, I'm awake again. What did I miss?\"\n",
    "\n",
    "# TODO: zavolej dekorovanou funkci slow_function a uloz vysledek do promenne result\n",
    "\n",
    "# Display the result\n",
    "print(\"Result:\", result)"
   ]
  },
  {
   "cell_type": "markdown",
   "metadata": {},
   "source": [
    "#### Cvičení 14\n",
    "Rozšiřte dekorátor `measure_execution_time` o argument `condition`, který bude rozhodovat o tom, jestli se dekorátor použije nebo ne.\n",
    "\n",
    "Rozšířený dekorátor pojmenujte `cond_measure_execution_time`"
   ]
  },
  {
   "cell_type": "code",
   "execution_count": null,
   "metadata": {},
   "outputs": [],
   "source": [
    "def cond_measure_execution_time(condition):\n",
    "    def decorator(func):\n",
    "        def wrapper(*args, **kwargs):\n",
    "            pass\n",
    "            # TODO: definuj wrapper\n",
    "            # pokud je podminka condition splnena, vytiskni dobu behu funkce func\n",
    "            # a vrať výsledek funkce func\n",
    "            # jinak vrat vysledek funkce func\n",
    "        return wrapper\n",
    "    return decorator"
   ]
  },
  {
   "cell_type": "markdown",
   "metadata": {},
   "source": [
    "Pojďme si nový dekorátor vyzkoušet!"
   ]
  },
  {
   "cell_type": "code",
   "execution_count": null,
   "metadata": {},
   "outputs": [],
   "source": [
    "time_flag = True\n",
    "\n",
    "@cond_measure_execution_time(time_flag)\n",
    "def slow_function(sleep_time: int = 2):\n",
    "    time.sleep(sleep_time)\n",
    "    return \"Okay, I'm awake again. What did I miss?\\n\"\n",
    "\n",
    "\n",
    "print(slow_function(1))\n",
    "print(slow_function(2))\n",
    "print(slow_function(3))"
   ]
  },
  {
   "cell_type": "markdown",
   "metadata": {},
   "source": [
    "# "
   ]
  }
 ],
 "metadata": {
  "kernelspec": {
   "display_name": "Python 3",
   "language": "python",
   "name": "python3"
  },
  "language_info": {
   "codemirror_mode": {
    "name": "ipython",
    "version": 3
   },
   "file_extension": ".py",
   "mimetype": "text/x-python",
   "name": "python",
   "nbconvert_exporter": "python",
   "pygments_lexer": "ipython3",
   "version": "3.11.2"
  }
 },
 "nbformat": 4,
 "nbformat_minor": 2
}
