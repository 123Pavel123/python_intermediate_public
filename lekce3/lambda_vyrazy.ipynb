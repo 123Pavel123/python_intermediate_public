{
 "cells": [
  {
   "cell_type": "markdown",
   "metadata": {},
   "source": [
    "## Lambda výrazy\n",
    "Lambda výraz je anonymní funkce, která žádné jméno a je definována přímo na místě, kde je použita.\n",
    "Je vhodná k definici jednoduchých funkcí, které se použijí jen jednou a není tedy nutné je pojmenovat.\n",
    "\n",
    "K zápisu používáme klíčové slovo `lambda`. Za ním následuje seznam argumentů oddělených čárkou, pak dvojtečka a nakonec jediný výraz, který vrací hodnotu funkce.\n",
    "\n",
    "Typické použití je v kombinaci s funkcemi `map`, `filter`, `reduce`, `sorted`, `min` nebo `max`, kde slouží jako (obvykle jednoduchý) argument. Použití lambda výrazů je velmi praktické, zvyšuje čitelnost kódu a zároveň je efektivní z hlediska paměťové náročnosti. Dobře si ho proto procvičíme na sérii jednoduchých příkladů."
   ]
  },
  {
   "cell_type": "markdown",
   "metadata": {},
   "source": [
    "#### Cvičení 4: `map`\n",
    "Převeďte teploty v seznamu ze stupňů Celsia na stupně Fahrenheita. Pužijte funkci `map` a vzorec: Fahreneit = (Celsius * 9/5) + 32."
   ]
  },
  {
   "cell_type": "code",
   "execution_count": null,
   "metadata": {},
   "outputs": [],
   "source": [
    "celsius = [12, 17, 13, 24, 10, 32, 19, 20]\n",
    "\n",
    "fahrenheit = list(...)\n",
    "\n",
    "print(fahrenheit)"
   ]
  },
  {
   "cell_type": "code",
   "execution_count": null,
   "metadata": {},
   "outputs": [],
   "source": [
    "# pomoci matplotlib si data muzeme vizualizovat\n",
    "import matplotlib.pyplot as plt\n",
    "\n",
    "x = range(len(celsius))\n",
    "plt.plot(x, celsius)\n",
    "plt.plot(x, fahrenheit)\n",
    "plt.xlabel(\"index in celsius list\")\n",
    "plt.legend([\"Celsius\", \"Fahrenheit\"])\n",
    "plt.show()"
   ]
  },
  {
   "cell_type": "markdown",
   "metadata": {},
   "source": [
    "#### Cvičení 5: `filter`\n",
    "Vyberte ze seznamu jmen ta, která začínají na 'J'. Použijte funkci `filtr` a `lambda` funkci."
   ]
  },
  {
   "cell_type": "code",
   "execution_count": null,
   "metadata": {},
   "outputs": [],
   "source": [
    "names = [\"John\",\n",
    "         \"Robert\",\n",
    "         \"David\",\n",
    "         \"Jane\",\n",
    "         \"Jack\",\n",
    "         \"Emily\",\n",
    "         \"Lorie\",\n",
    "         \"Jerome\",\n",
    "         \"Kate\",\n",
    "         \"Eva\",\n",
    "         \"Jenny\"]\n",
    "\n",
    "j_names = ... # TODO: vyfiltruj jmena z names, ktera zacinaji na \"J\"\n",
    "\n",
    "j_names"
   ]
  },
  {
   "cell_type": "markdown",
   "metadata": {},
   "source": [
    "#### Cvičení 6: `reduce`\n",
    "Zadefinujte lambda výraz pro funkci `reduce` tak, aby ze seznamu dvojic řetězců vytvořil jednu dvojici řetězců takových, které budou zřetězením původních řetězců na odpovídajících pozicích.\n",
    "\n",
    "Wel.. raději příklad :D\n",
    "\n",
    "```python\n",
    "# Vstup\n",
    "tuples = [('a', 'b'), ('c', 'd'), ('e', 'f')]\n",
    "\n",
    "# Výstup\n",
    "('ace', 'bdf')\n",
    "```\n"
   ]
  },
  {
   "cell_type": "code",
   "execution_count": 5,
   "metadata": {},
   "outputs": [
    {
     "data": {
      "text/plain": [
       "('kódovaná', 'zprávička')"
      ]
     },
     "execution_count": 5,
     "metadata": {},
     "output_type": "execute_result"
    }
   ],
   "source": [
    "from functools import reduce\n",
    "\n",
    "tuples = [(\"k\", \"z\"), (\"ó\", \"p\"), (\"d\", \"r\"), (\"o\", \"á\"), (\"v\", \"v\"), (\"a\", \"i\"), (\"n\", \"č\"), (\"á\", \"ka\")]\n",
    "\n",
    "joined_tuple = ... # TODO: viz zadani\n",
    "\n",
    "joined_tuple"
   ]
  },
  {
   "cell_type": "markdown",
   "metadata": {},
   "source": [
    "#### Cvičení 7: `sorted`\n",
    "Seřaďte seznam objektů třídy `Person` abecedně podle jména. Použijte funkci `sorted` a lambda výraz."
   ]
  },
  {
   "cell_type": "code",
   "execution_count": null,
   "metadata": {},
   "outputs": [],
   "source": [
    "class Person:\n",
    "    def __init__(self, name, age):\n",
    "        self.name = name\n",
    "        self.age = age\n",
    "\n",
    "    def get_age(self):\n",
    "        return self.age\n",
    "\n",
    "    def get_name(self):\n",
    "        return self.name\n",
    "\n",
    "    def __repr__(self):\n",
    "        return f\"{self.name} ({self.age})\"\n",
    "\n",
    "marek = Person(\"Marek\", 25)\n",
    "radek = Person(\"Radek\", 30)\n",
    "jana = Person(\"Jana\", 20)\n",
    "eva = Person(\"Eva\", 17)\n",
    "\n",
    "people = [marek, radek, jana, eva]\n",
    "\n",
    "\n",
    "sorted_by_age = # TODO: serad lidi podle veku od nejmladsiho po nejstarsiho\n",
    "sorted_by_name = # TODO: serad lidi abecedne podle jmena\n",
    "\n",
    "print(sorted_by_age)\n",
    "print(sorted_by_name)"
   ]
  },
  {
   "cell_type": "markdown",
   "metadata": {},
   "source": [
    "#### Cvičení 8: `min` a `max`\n",
    "Ze seznamu v předešlém cvičení vyberte nejstaršího a nejmladšího člověka. Použijte funkce `min` a `max` a lambda výraz."
   ]
  },
  {
   "cell_type": "code",
   "execution_count": null,
   "metadata": {},
   "outputs": [],
   "source": [
    "oldest_person = ... # TODO: najdi nejstrasiho cloveka\n",
    "\n",
    "youngest_person = ... # TODO: najdi nejmladsiho cloveka\n",
    "\n",
    "print(\"nejstarsi:\", oldest_person)\n",
    "print(\"nejmladsi:\", youngest_person)"
   ]
  },
  {
   "cell_type": "markdown",
   "metadata": {},
   "source": [
    "### Cvičení 9: Vyber správnou funkci pro danou situaci\n",
    "\n",
    "Máme k dispozici následující blíže nespecifikovaný text, který jsme pro vás rozdělili podle mezer na seznam slov. \n",
    "\n",
    "Nad textem chceme provést několik operací.\n",
    "Pro každou z nich vyberte vhodnou funkci ze Cvičení 4 - 8 a vyřešte úlohu."
   ]
  },
  {
   "cell_type": "code",
   "execution_count": 2,
   "metadata": {},
   "outputs": [],
   "source": [
    "text = \"Pasta do zębów to produkt przeznaczony do utrzymania higieny i zdrowia jamy ustnej. Zawiera kombinację składników aktywnych, takich jak substancje ścierne usuwające płytkę nazębną, fluor zapobiegający próchnicy zębów, środki przeciwdrobnoustrojowe zwalczające bakterie oraz inne składniki poprawiające smak i konsystencję. Oprócz usuwania płytki nazębnej i zapobiegania próchnicy, pasta do zębów pomaga utrzymać świeży oddech i uczucie czystości w jamie ustnej. Różne rodzaje past do zębów oferują dodatkowe korzyści, takie jak wybielanie zębów, pielęgnacja wrażliwych dziąseł lub specjalne formuły dla dzieci. Regularne stosowanie pasty do zębów jest zalecane jako kluczowy element codziennej higieny jamy ustnej, wraz z odpowiednim szczotkowaniem i nitkowaniem zębów, aby zachować zdrowy, świeży uśmiech.\"\n",
    "split_text = text.split()   # text rozdelime na slova podle mezer"
   ]
  },
  {
   "cell_type": "code",
   "execution_count": null,
   "metadata": {},
   "outputs": [],
   "source": [
    "# UKOLY\n",
    "\n",
    "# najdi nejkratsi slovo ze seznamu `split_text`\n",
    "shortest_word = \"\" # TODO\n",
    "print(\"Nejkratsi slovo:\", shortest_word)\n",
    "\n",
    "\n",
    "# kolikrat se v textu vyskytuje slovo 'zębów'?\n",
    "zebow_count = 0 # TODO\n",
    "print(\"Pocet zębów:\", zebow_count)\n",
    "\n",
    "\n",
    "# vytvor seznam prvnich pismen vsech slov v textu\n",
    "first_letters = \"\" # TODO\n",
    "print(\"Prvni pismena:\", first_letters)\n",
    "\n",
    "\n",
    "# spoj slova pomoci mezery do jednoho retezce a vypis ho\n",
    "joined_text = \"\" # TODO\n",
    "print(\"Text:\", joined_text)\n",
    "\n",
    "\n",
    "# final boss - najdi slovo obsahujici nejvice pismen 'a'\n",
    "most_a = \"\" # TODO\n",
    "print(\"Slovo s nejvice pismeny 'a':\", most_a)\n"
   ]
  }
 ],
 "metadata": {
  "kernelspec": {
   "display_name": "Python 3",
   "language": "python",
   "name": "python3"
  },
  "language_info": {
   "codemirror_mode": {
    "name": "ipython",
    "version": 3
   },
   "file_extension": ".py",
   "mimetype": "text/x-python",
   "name": "python",
   "nbconvert_exporter": "python",
   "pygments_lexer": "ipython3",
   "version": "3.11.2"
  }
 },
 "nbformat": 4,
 "nbformat_minor": 2
}
